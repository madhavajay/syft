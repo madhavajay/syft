{
 "cells": [
  {
   "cell_type": "code",
   "execution_count": null,
   "id": "4675df0a-6f7a-4b95-88bb-cedd8d25ebe4",
   "metadata": {},
   "outputs": [],
   "source": [
    "# !uv pip install -e ./syft-rpc\n",
    "# !uv pip install -e ./syft-event"
   ]
  },
  {
   "cell_type": "code",
   "execution_count": 1,
   "id": "6fd4e5b0-b7b9-4412-92fa-72bf507ced1a",
   "metadata": {},
   "outputs": [],
   "source": [
    "from utils import User, body_to_obj"
   ]
  },
  {
   "cell_type": "code",
   "execution_count": 2,
   "id": "aa9e76ae-539f-4fda-ac31-99e10fdfd4fd",
   "metadata": {},
   "outputs": [],
   "source": [
    "from syft_rpc import Request"
   ]
  },
  {
   "cell_type": "code",
   "execution_count": 3,
   "id": "81b29099-b707-457d-b50a-329cd600d673",
   "metadata": {},
   "outputs": [],
   "source": [
    "user = User(id=1, name=\"Alice\")"
   ]
  },
  {
   "cell_type": "code",
   "execution_count": 4,
   "id": "a5948244-2f14-4d79-b4bc-0d7116da4f50",
   "metadata": {},
   "outputs": [],
   "source": [
    "request = Request()"
   ]
  },
  {
   "cell_type": "code",
   "execution_count": 5,
   "id": "f0ae3dbe-683e-420f-a313-92dc842b8201",
   "metadata": {},
   "outputs": [],
   "source": [
    "# api = request.make_api(\"syft://madhava@openmined.org/public/rpc/test/rpc.service.yaml\")"
   ]
  },
  {
   "cell_type": "code",
   "execution_count": 6,
   "id": "dce86123-2342-4fe2-b6de-24d580e774d0",
   "metadata": {},
   "outputs": [
    {
     "data": {
      "text/plain": [
       "Future(local_path=PosixPath('/Users/madhavajay/SyftBox/datasites/madhava@openmined.org/public/rpc/test/listen/01JD91A4ATNHTFZHVQMTNARHTA.response'), value=None)"
      ]
     },
     "execution_count": 6,
     "metadata": {},
     "output_type": "execute_result"
    }
   ],
   "source": [
    "headers = {}\n",
    "headers[\"content-type\"] = \"application/json\"\n",
    "headers[\"object-type\"] = type(user).__name__\n",
    "response = request.get(\n",
    "    \"syft://madhava@openmined.org/public/rpc/test/listen\",\n",
    "    body=user.dump(),\n",
    "    headers=headers\n",
    ")\n",
    "response"
   ]
  },
  {
   "cell_type": "code",
   "execution_count": 7,
   "id": "44dd5c33-49f4-4b55-b3b6-0efc66bb4fb9",
   "metadata": {},
   "outputs": [],
   "source": [
    "result = response.wait()"
   ]
  },
  {
   "cell_type": "code",
   "execution_count": 8,
   "id": "70be8aa1-7a52-4961-b205-20e19cd40014",
   "metadata": {},
   "outputs": [
    {
     "data": {
      "text/plain": [
       "Message(ulid=ULID(01JD91A4ATNHTFZHVQMTNARHTA), sender='madhava@openmined.org', headers={'content-type': 'application/json', 'object-type': 'LoginResponse'}, timestamp=1732248932.747627, body=b'eyJ1c2VybmFtZSI6ICJBbGljZSIsICJ0b2tlbiI6IDF9', url=syft://madhava@openmined.org/public/rpc/test/listen)"
      ]
     },
     "execution_count": 8,
     "metadata": {},
     "output_type": "execute_result"
    }
   ],
   "source": [
    "result"
   ]
  },
  {
   "cell_type": "code",
   "execution_count": 9,
   "id": "53eb3500-87ff-4a64-9624-4cccc1b086e2",
   "metadata": {},
   "outputs": [
    {
     "data": {
      "text/plain": [
       "LoginResponse(username='Alice', token=1)"
      ]
     },
     "execution_count": 9,
     "metadata": {},
     "output_type": "execute_result"
    }
   ],
   "source": [
    "body_to_obj(response)"
   ]
  },
  {
   "cell_type": "code",
   "execution_count": null,
   "id": "fed568f4-19b6-42a6-b9fb-c79103c1a3f9",
   "metadata": {},
   "outputs": [],
   "source": []
  },
  {
   "cell_type": "code",
   "execution_count": null,
   "id": "c9e4db52-718d-4237-b903-124a0d605171",
   "metadata": {},
   "outputs": [],
   "source": []
  }
 ],
 "metadata": {
  "kernelspec": {
   "display_name": "Python 3 (ipykernel)",
   "language": "python",
   "name": "python3"
  },
  "language_info": {
   "codemirror_mode": {
    "name": "ipython",
    "version": 3
   },
   "file_extension": ".py",
   "mimetype": "text/x-python",
   "name": "python",
   "nbconvert_exporter": "python",
   "pygments_lexer": "ipython3",
   "version": "3.12.7"
  }
 },
 "nbformat": 4,
 "nbformat_minor": 5
}
